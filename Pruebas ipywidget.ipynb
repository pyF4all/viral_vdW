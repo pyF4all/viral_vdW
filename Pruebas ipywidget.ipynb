{
 "cells": [
  {
   "cell_type": "code",
   "execution_count": 2,
   "id": "dd98a6eb",
   "metadata": {},
   "outputs": [],
   "source": [
    "import ipywidgets as widgets\n",
    "import numpy as np\n",
    "import matplotlib.pyplot as plt"
   ]
  },
  {
   "cell_type": "markdown",
   "id": "ed8440d7",
   "metadata": {},
   "source": [
    "Primero voy a probar a crear un slider solo"
   ]
  },
  {
   "cell_type": "code",
   "execution_count": 28,
   "id": "a1b4d422",
   "metadata": {},
   "outputs": [
    {
     "ename": "SyntaxError",
     "evalue": "invalid syntax (746685208.py, line 1)",
     "output_type": "error",
     "traceback": [
      "\u001b[0;36m  File \u001b[0;32m\"/tmp/ipykernel_529726/746685208.py\"\u001b[0;36m, line \u001b[0;32m1\u001b[0m\n\u001b[0;31m    interactive_plot = widgets.interactive(, m=(-2.0, 2.0), b=(-3, 3, 0.5))\u001b[0m\n\u001b[0m                                           ^\u001b[0m\n\u001b[0;31mSyntaxError\u001b[0m\u001b[0;31m:\u001b[0m invalid syntax\n"
     ]
    }
   ],
   "source": [
    "interactive_plot = widgets.interactive(, m=(-2.0, 2.0), b=(-3, 3, 0.5))\n",
    "output = interactive_plot.children[-1]\n",
    "output.layout.height = '350px'\n",
    "interactive_plot"
   ]
  },
  {
   "cell_type": "markdown",
   "id": "34ec982f",
   "metadata": {},
   "source": [
    "Selección de simetrías"
   ]
  },
  {
   "cell_type": "code",
   "execution_count": 3,
   "id": "6e97941b",
   "metadata": {},
   "outputs": [
    {
     "data": {
      "application/vnd.jupyter.widget-view+json": {
       "model_id": "e33f17ebb48646cfbd4bf1fe5120c64f",
       "version_major": 2,
       "version_minor": 0
      },
      "text/plain": [
       "Dropdown(description='Simetría:', options=(('5-fold', 5), ('3-fold', 3), ('2-fold', 2)), value=5)"
      ]
     },
     "metadata": {},
     "output_type": "display_data"
    }
   ],
   "source": [
    "w = widgets.Dropdown(\n",
    "    options=[('5-fold', 5), ('3-fold', 3), ('2-fold', 2)],\n",
    "    value=5,\n",
    "    description='Simetría:',\n",
    ")\n",
    "display(w)\n"
   ]
  },
  {
   "cell_type": "markdown",
   "id": "17b9868b",
   "metadata": {},
   "source": [
    "Printeo el resultado de la seleccion"
   ]
  },
  {
   "cell_type": "code",
   "execution_count": 23,
   "id": "89a51092",
   "metadata": {},
   "outputs": [
    {
     "name": "stdout",
     "output_type": "stream",
     "text": [
      "3\n"
     ]
    }
   ],
   "source": [
    "print(w.value)"
   ]
  },
  {
   "cell_type": "markdown",
   "id": "a10d3922",
   "metadata": {},
   "source": [
    "Pruebo a usar el resultado para crear una gráfica simple"
   ]
  },
  {
   "cell_type": "code",
   "execution_count": 25,
   "id": "25e50cfe",
   "metadata": {},
   "outputs": [
    {
     "data": {
      "image/png": "[encoded data removed]",
      "text/plain": [
       "<Figure size 640x480 with 1 Axes>"
      ]
     },
     "metadata": {},
     "output_type": "display_data"
    }
   ],
   "source": [
    "def simple(fold):\n",
    "    return fold*x\n",
    "\n",
    "\n",
    "fold = w.value\n",
    "x = np.linspace(0,5,100)\n",
    "y = simple(fold)\n",
    "plt.plot(x,y)\n",
    "plt.show()\n"
   ]
  },
  {
   "cell_type": "markdown",
   "id": "e7e5810e",
   "metadata": {},
   "source": [
    "Pruebo ahora a hacer una gráfica que cambie en tiempo real"
   ]
  },
  {
   "cell_type": "code",
   "execution_count": 26,
   "id": "81485149",
   "metadata": {},
   "outputs": [
    {
     "data": {
      "application/vnd.jupyter.widget-view+json": {
       "model_id": "77905bd929b0494ca78fcc75f8f31ece",
       "version_major": 2,
       "version_minor": 0
      },
      "text/plain": [
       "interactive(children=(FloatSlider(value=0.0, description='m', max=2.0, min=-2.0), FloatSlider(value=0.0, descr…"
      ]
     },
     "metadata": {},
     "output_type": "display_data"
    }
   ],
   "source": [
    "%matplotlib inline\n",
    "from ipywidgets import interactive\n",
    "import matplotlib.pyplot as plt\n",
    "import numpy as np\n",
    "\n",
    "def f(m, b):\n",
    "    plt.figure(2)\n",
    "    x = np.linspace(-10, 10, num=1000)\n",
    "    plt.plot(x, m * x + b)\n",
    "    plt.ylim(-5, 5)\n",
    "    plt.show()\n",
    "\n",
    "interactive_plot = interactive(f, m=(-2.0, 2.0), b=(-3, 3, 0.5))\n",
    "output = interactive_plot.children[-1]\n",
    "output.layout.height = '350px'\n",
    "interactive_plot"
   ]
  },
  {
   "cell_type": "code",
   "execution_count": null,
   "id": "9ab6fc71",
   "metadata": {},
   "outputs": [],
   "source": [
    "data = np.array([1,2],\n",
    "               [2,3])"
   ]
  },
  {
   "cell_type": "code",
   "execution_count": null,
   "id": "d8c03b54",
   "metadata": {},
   "outputs": [],
   "source": []
  }
 ],
 "metadata": {
  "kernelspec": {
   "display_name": "Python 3 (ipykernel)",
   "language": "python",
   "name": "python3"
  },
  "language_info": {
   "codemirror_mode": {
    "name": "ipython",
    "version": 3
   },
   "file_extension": ".py",
   "mimetype": "text/x-python",
   "name": "python",
   "nbconvert_exporter": "python",
   "pygments_lexer": "ipython3",
   "version": "3.9.13"
  }
 },
 "nbformat": 4,
 "nbformat_minor": 5
}
